{
 "cells": [
  {
   "cell_type": "code",
   "execution_count": 1,
   "metadata": {},
   "outputs": [],
   "source": [
    "# Compare Cls with the ones of William"
   ]
  },
  {
   "cell_type": "code",
   "execution_count": 2,
   "metadata": {},
   "outputs": [
    {
     "name": "stdout",
     "output_type": "stream",
     "text": [
      "Using CAMB 1.3.6 installed at /Users/louis/Code/CAMBfork/camb\n"
     ]
    }
   ],
   "source": [
    "%load_ext autoreload\n",
    "%autoreload 2\n",
    "\n",
    "import numpy as np\n",
    "import scipy\n",
    "import os\n",
    "import sys\n",
    "import copy\n",
    "import itertools\n",
    "from scipy.linalg import block_diag\n",
    "import hashlib\n",
    "\n",
    "import camb\n",
    "from camb import model, initialpower\n",
    "from camb.sources import GaussianSourceWindow, SplinedSourceWindow\n",
    "from camb.fisher.cachers import cacher_pk, cacher_mem, cacher_dict_mem\n",
    "from camb.fisher.utils import enumerate_progress, is_pos_def, cov_to_corr, set_mpl\n",
    "from camb import fisher\n",
    "\n",
    "from getdist import plots\n",
    "from getdist.gaussian_mixtures import GaussianND\n",
    "\n",
    "from os.path import join as opj\n",
    "\n",
    "print('Using CAMB %s installed at %s'%(camb.__version__,os.path.dirname(camb.__file__)))"
   ]
  },
  {
   "cell_type": "code",
   "execution_count": 3,
   "metadata": {},
   "outputs": [],
   "source": [
    "# set_mpl()\n",
    "import matplotlib.pyplot as plt\n",
    "set_mpl()"
   ]
  },
  {
   "cell_type": "code",
   "execution_count": 4,
   "metadata": {},
   "outputs": [],
   "source": [
    "from camb.fisher.cosmo import ffp10_plancklens\n",
    "from camb.fisher.utils import latex_names as latex"
   ]
  },
  {
   "cell_type": "code",
   "execution_count": null,
   "metadata": {},
   "outputs": [],
   "source": []
  },
  {
   "cell_type": "code",
   "execution_count": 5,
   "metadata": {},
   "outputs": [],
   "source": [
    "params_cosmo = ['logA', 'ns', 'cosmomc_theta', 'omch2', 'ombh2']"
   ]
  },
  {
   "cell_type": "code",
   "execution_count": 6,
   "metadata": {},
   "outputs": [],
   "source": [
    "fiducials = ffp10_plancklens"
   ]
  },
  {
   "cell_type": "code",
   "execution_count": 7,
   "metadata": {},
   "outputs": [
    {
     "data": {
      "text/plain": [
       "class: <InitialPowerLaw>\n",
       " tensor_parameterization = tensor_param_rpivot\n",
       " ns = 0.9636852\n",
       " nrun = 0.0\n",
       " nrunrun = 0.0\n",
       " nt = 0.0\n",
       " ntrun = -0.0\n",
       " r = 0.0\n",
       " pivot_scalar = 0.05\n",
       " pivot_tensor = 0.05\n",
       " As = 2.119631e-09\n",
       " At = 1.0\n",
       " "
      ]
     },
     "execution_count": 7,
     "metadata": {},
     "output_type": "execute_result"
    }
   ],
   "source": [
    "pars = camb.CAMBparams()\n",
    "\n",
    "if 'H0' in params_cosmo:\n",
    "    pars.set_cosmology(H0=fiducials['H0'], ombh2=fiducials['ombh2'], omch2=fiducials['omch2'], mnu=fiducials['mnu'], omk=fiducials['omk'], tau=fiducials['tau'])\n",
    "elif 'cosmomc_theta' in params_cosmo:\n",
    "    pars.set_cosmology(cosmomc_theta=fiducials['cosmomc_theta'], ombh2=fiducials['ombh2'], omch2=fiducials['omch2'], mnu=fiducials['mnu'], omk=fiducials['omk'], tau=fiducials['tau'])\n",
    "\n",
    "pars.InitPower.set_params(As=fiducials['As'], ns=fiducials['ns'], r=0)\n",
    "\n",
    "\n"
   ]
  },
  {
   "cell_type": "code",
   "execution_count": 8,
   "metadata": {},
   "outputs": [],
   "source": [
    "# Follows Matthewson et al Fig 1.\n",
    "\n",
    "zobs = 0.9225\n",
    "sigz = 0.02\n",
    "bg_z = lambda z  : 0.79 + 0.68*z \n",
    "\n",
    "nofz = lambda z : -1494.07*z**2 + 2598.21*z + 717.09\n",
    "\n",
    "\n",
    "zs = np.arange(0., 3, 1e-4)\n",
    "\n",
    "\n",
    "window_g = np.exp(-(zs - zobs) ** 2 / (2 * sigz ** 2)) / (np.sqrt(2 * np.pi) * sigz)\n",
    "window =  window_g * nofz(zs)\n",
    "window = window / np.trapz(window, zs)\n",
    "    \n",
    "# sources = [GaussianSourceWindow(redshift=zobs, source_type='counts', bias=bg_z(zobs), sigma=sigz, dlog10Ndm=0.),  \\\n",
    "#         GaussianSourceWindow(redshift=zobs, source_type='arf', bias=bg_z(zobs), sigma=sigz, dlog10Ndm=0.) ]\n",
    "\n",
    "sources = [SplinedSourceWindow(z=zs,source_type='counts', W=window, bias_z = bg_z(zobs)*np.ones_like(zs)), \n",
    "          SplinedSourceWindow(z=zs, source_type='arf', W=window, bias_z = bg_z(zobs)*np.ones_like(zs))]\n"
   ]
  },
  {
   "cell_type": "code",
   "execution_count": 9,
   "metadata": {},
   "outputs": [],
   "source": [
    "set_mpl()"
   ]
  },
  {
   "cell_type": "code",
   "execution_count": 10,
   "metadata": {},
   "outputs": [
    {
     "data": {
      "text/plain": [
       "(0.8, 1.1)"
      ]
     },
     "execution_count": 10,
     "metadata": {},
     "output_type": "execute_result"
    },
    {
     "data": {
      "image/png": "[encoded data removed]",
      "text/plain": [
       "<Figure size 432x288 with 1 Axes>"
      ]
     },
     "metadata": {
      "needs_background": "light"
     },
     "output_type": "display_data"
    }
   ],
   "source": [
    "plt.plot(zs, window_g)\n",
    "plt.plot(zs, window)\n",
    "\n",
    "plt.xlim(0.8, 1.1)"
   ]
  },
  {
   "cell_type": "code",
   "execution_count": 11,
   "metadata": {},
   "outputs": [],
   "source": [
    "lmax = 1000\n",
    "\n",
    "pars.set_for_lmax(lmax, lens_potential_accuracy=0)\n",
    "#set Want_CMB to true if you also want CMB spectra or correlations\n",
    "pars.Want_CMB = False\n",
    "pars.Want_CMB_lensing = False\n",
    "\n",
    "#NonLinear_both or NonLinear_lens will use non-linear corrections\n",
    "# pars.NonLinear = model.NonLinear_both\n",
    "\n",
    "pars.SourceWindows = sources\n",
    "\n",
    "pars.SourceTerms.limber_windows = False\n",
    "pars.SourceTerms.limber_phi_lmin = 100\n",
    "\n",
    "cls = {}"
   ]
  },
  {
   "cell_type": "code",
   "execution_count": 12,
   "metadata": {},
   "outputs": [
    {
     "name": "stdout",
     "output_type": "stream",
     "text": [
      " V3 ADF, window_i =            1\n",
      " V3 ARF, window_i, z_prom =            2  0.92246561137335126     \n"
     ]
    }
   ],
   "source": [
    "pars.SourceTerms.counts_density = True \n",
    "pars.SourceTerms.counts_redshift = True  \n",
    "pars.SourceTerms.counts_velocity = True\n",
    "pars.SourceTerms.counts_lensing = True  \n",
    "pars.SourceTerms.counts_radial = True  \n",
    "pars.SourceTerms.counts_timedelay = True\n",
    "pars.SourceTerms.counts_ISW = True\n",
    "pars.SourceTerms.counts_potential = True\n",
    "pars.SourceTerms.counts_evolve = True\n",
    "\n",
    "\n",
    "results = camb.get_results(pars)\n",
    "cls['tot'] = results.get_source_cls_dict(raw_cl=True)\n"
   ]
  },
  {
   "cell_type": "code",
   "execution_count": 13,
   "metadata": {},
   "outputs": [
    {
     "name": "stdout",
     "output_type": "stream",
     "text": [
      " V3 ADF, window_i =            1\n",
      " V3 ARF, window_i, z_prom =            2  0.92246561137335126     \n"
     ]
    }
   ],
   "source": [
    "pars.SourceTerms.counts_density = True \n",
    "pars.SourceTerms.counts_redshift = False  \n",
    "pars.SourceTerms.counts_velocity = False\n",
    "pars.SourceTerms.counts_lensing = False  \n",
    "pars.SourceTerms.counts_radial = False  \n",
    "pars.SourceTerms.counts_timedelay = False\n",
    "pars.SourceTerms.counts_ISW = False\n",
    "pars.SourceTerms.counts_potential = False\n",
    "pars.SourceTerms.counts_evolve = False\n",
    "\n",
    "results = camb.get_results(pars)\n",
    "cls['density'] = results.get_source_cls_dict(raw_cl=True)\n"
   ]
  },
  {
   "cell_type": "code",
   "execution_count": 14,
   "metadata": {},
   "outputs": [
    {
     "name": "stdout",
     "output_type": "stream",
     "text": [
      " V3 ADF, window_i =            1\n",
      " V3 ARF, window_i, z_prom =            2  0.92246561137335126     \n"
     ]
    }
   ],
   "source": [
    "pars.SourceTerms.counts_density = False \n",
    "pars.SourceTerms.counts_redshift = True  \n",
    "pars.SourceTerms.counts_velocity = False\n",
    "pars.SourceTerms.counts_lensing = False  \n",
    "pars.SourceTerms.counts_radial = False  \n",
    "pars.SourceTerms.counts_timedelay = False\n",
    "pars.SourceTerms.counts_ISW = False\n",
    "pars.SourceTerms.counts_potential = False\n",
    "pars.SourceTerms.counts_evolve = False\n",
    "\n",
    "results = camb.get_results(pars)\n",
    "cls['redshift'] = results.get_source_cls_dict(raw_cl=True)\n"
   ]
  },
  {
   "cell_type": "code",
   "execution_count": 15,
   "metadata": {},
   "outputs": [
    {
     "name": "stdout",
     "output_type": "stream",
     "text": [
      " V3 ADF, window_i =            1\n",
      " V3 ARF, window_i, z_prom =            2  0.92246561137335126     \n"
     ]
    }
   ],
   "source": [
    "pars.SourceTerms.counts_density = False \n",
    "pars.SourceTerms.counts_redshift = False  \n",
    "pars.SourceTerms.counts_velocity = False\n",
    "pars.SourceTerms.counts_lensing = True  \n",
    "pars.SourceTerms.couants_radial = False  \n",
    "pars.SourceTerms.counts_timedelay = False\n",
    "pars.SourceTerms.counts_ISW = False\n",
    "pars.SourceTerms.counts_potential = False\n",
    "pars.SourceTerms.counts_evolve = False\n",
    "\n",
    "results = camb.get_results(pars)\n",
    "cls['lensing'] = results.get_source_cls_dict(raw_cl=True)\n"
   ]
  },
  {
   "cell_type": "code",
   "execution_count": 16,
   "metadata": {},
   "outputs": [
    {
     "name": "stdout",
     "output_type": "stream",
     "text": [
      " V3 ADF, window_i =            1\n",
      " V3 ARF, window_i, z_prom =            2  0.92246561137335126     \n"
     ]
    }
   ],
   "source": [
    "pars.SourceTerms.counts_density = False \n",
    "pars.SourceTerms.counts_redshift = False  \n",
    "pars.SourceTerms.counts_velocity = True\n",
    "pars.SourceTerms.counts_lensing = False  \n",
    "pars.SourceTerms.couants_radial = False  \n",
    "pars.SourceTerms.counts_timedelay = False\n",
    "pars.SourceTerms.counts_ISW = False\n",
    "pars.SourceTerms.counts_potential = False\n",
    "pars.SourceTerms.counts_evolve = False\n",
    "\n",
    "results = camb.get_results(pars)\n",
    "cls['velocity'] = results.get_source_cls_dict(raw_cl=True)\n"
   ]
  },
  {
   "cell_type": "code",
   "execution_count": 17,
   "metadata": {},
   "outputs": [
    {
     "name": "stdout",
     "output_type": "stream",
     "text": [
      " V3 ADF, window_i =            1\n",
      " V3 ARF, window_i, z_prom =            2  0.92246561137335126     \n"
     ]
    }
   ],
   "source": [
    "pars.SourceTerms.counts_density = False \n",
    "pars.SourceTerms.counts_redshift = False  \n",
    "pars.SourceTerms.counts_velocity = False\n",
    "pars.SourceTerms.counts_lensing = False  \n",
    "pars.SourceTerms.couants_radial = True  \n",
    "pars.SourceTerms.counts_timedelay = False\n",
    "pars.SourceTerms.counts_ISW = False\n",
    "pars.SourceTerms.counts_potential = False\n",
    "pars.SourceTerms.counts_evolve = False\n",
    "\n",
    "results = camb.get_results(pars)\n",
    "cls['radial'] = results.get_source_cls_dict(raw_cl=True)\n"
   ]
  },
  {
   "cell_type": "code",
   "execution_count": 18,
   "metadata": {},
   "outputs": [
    {
     "name": "stdout",
     "output_type": "stream",
     "text": [
      " V3 ADF, window_i =            1\n",
      " V3 ARF, window_i, z_prom =            2  0.92246561137335126     \n"
     ]
    }
   ],
   "source": [
    "pars.SourceTerms.counts_density = False \n",
    "pars.SourceTerms.counts_redshift = False  \n",
    "pars.SourceTerms.counts_velocity = False\n",
    "pars.SourceTerms.counts_lensing = False  \n",
    "pars.SourceTerms.couants_radial = False  \n",
    "pars.SourceTerms.counts_timedelay = True\n",
    "pars.SourceTerms.counts_ISW = False\n",
    "pars.SourceTerms.counts_potential = False\n",
    "pars.SourceTerms.counts_evolve = False\n",
    "\n",
    "results = camb.get_results(pars)\n",
    "cls['timedelay'] = results.get_source_cls_dict(raw_cl=True)"
   ]
  },
  {
   "cell_type": "code",
   "execution_count": 19,
   "metadata": {},
   "outputs": [
    {
     "name": "stdout",
     "output_type": "stream",
     "text": [
      " V3 ADF, window_i =            1\n",
      " V3 ARF, window_i, z_prom =            2  0.92246561137335126     \n"
     ]
    }
   ],
   "source": [
    "pars.SourceTerms.counts_density = False \n",
    "pars.SourceTerms.counts_redshift = False  \n",
    "pars.SourceTerms.counts_velocity = False\n",
    "pars.SourceTerms.counts_lensing = False  \n",
    "pars.SourceTerms.couants_radial = False  \n",
    "pars.SourceTerms.counts_timedelay = False\n",
    "pars.SourceTerms.counts_ISW = True\n",
    "pars.SourceTerms.counts_potential = False\n",
    "pars.SourceTerms.counts_evolve = False\n",
    "\n",
    "results = camb.get_results(pars)\n",
    "cls['isw'] = results.get_source_cls_dict(raw_cl=True)"
   ]
  },
  {
   "cell_type": "code",
   "execution_count": 20,
   "metadata": {},
   "outputs": [
    {
     "name": "stdout",
     "output_type": "stream",
     "text": [
      " V3 ADF, window_i =            1\n",
      " V3 ARF, window_i, z_prom =            2  0.92246561137335126     \n"
     ]
    }
   ],
   "source": [
    "pars.SourceTerms.counts_density = False \n",
    "pars.SourceTerms.counts_redshift = False  \n",
    "pars.SourceTerms.counts_velocity = False\n",
    "pars.SourceTerms.counts_lensing = False  \n",
    "pars.SourceTerms.couants_radial = False  \n",
    "pars.SourceTerms.counts_timedelay = False\n",
    "pars.SourceTerms.counts_ISW = False\n",
    "pars.SourceTerms.counts_potential = True\n",
    "pars.SourceTerms.counts_evolve = False\n",
    "\n",
    "results = camb.get_results(pars)\n",
    "cls['potential'] = results.get_source_cls_dict(raw_cl=True)"
   ]
  },
  {
   "cell_type": "code",
   "execution_count": 21,
   "metadata": {},
   "outputs": [
    {
     "name": "stdout",
     "output_type": "stream",
     "text": [
      " V3 ADF, window_i =            1\n",
      " V3 ARF, window_i, z_prom =            2  0.92246561137335126     \n"
     ]
    }
   ],
   "source": [
    "pars.SourceTerms.counts_density = False \n",
    "pars.SourceTerms.counts_redshift = False  \n",
    "pars.SourceTerms.counts_velocity = False\n",
    "pars.SourceTerms.counts_lensing = False  \n",
    "pars.SourceTerms.couants_radial = False  \n",
    "pars.SourceTerms.counts_timedelay = False\n",
    "pars.SourceTerms.counts_ISW = False\n",
    "pars.SourceTerms.counts_potential = False\n",
    "pars.SourceTerms.counts_evolve = True\n",
    "\n",
    "results = camb.get_results(pars)\n",
    "cls['evolve'] = results.get_source_cls_dict(raw_cl=True)"
   ]
  },
  {
   "cell_type": "code",
   "execution_count": 34,
   "metadata": {},
   "outputs": [
    {
     "name": "stdout",
     "output_type": "stream",
     "text": [
      " V3 ADF, window_i =            1\n",
      " V3 ARF, window_i, z_prom =            2  0.92246561137335126     \n"
     ]
    }
   ],
   "source": [
    "pars.SourceTerms.counts_density = True \n",
    "pars.SourceTerms.counts_redshift = True  \n",
    "pars.SourceTerms.counts_velocity = False\n",
    "pars.SourceTerms.counts_lensing = True  \n",
    "pars.SourceTerms.couants_radial = True  \n",
    "pars.SourceTerms.counts_timedelay = True\n",
    "pars.SourceTerms.counts_ISW = True\n",
    "pars.SourceTerms.counts_potential = True\n",
    "pars.SourceTerms.counts_evolve = True\n",
    "\n",
    "results = camb.get_results(pars)\n",
    "cls['no_velocity'] = results.get_source_cls_dict(raw_cl=True)"
   ]
  },
  {
   "cell_type": "code",
   "execution_count": 38,
   "metadata": {},
   "outputs": [
    {
     "data": {
      "text/plain": [
       "(-2e-08, 2e-08)"
      ]
     },
     "execution_count": 38,
     "metadata": {},
     "output_type": "execute_result"
    },
    {
     "data": {
      "image/png": "[encoded data removed]",
      "text/plain": [
       "<Figure size 432x288 with 1 Axes>"
      ]
     },
     "metadata": {
      "needs_background": "light"
     },
     "output_type": "display_data"
    }
   ],
   "source": [
    "ells = np.arange(2, 600)\n",
    "\n",
    "# plt.figure(figsize=(8, 5))\n",
    "\n",
    "ls = {\n",
    "    'tot':'-', \n",
    "    'density':'--', \n",
    "    'redshift':'-.',\n",
    "    'lensing':(0, (1, 5)),\n",
    "    'velocity':(0, (1, 1)),\n",
    "#     'radial':(0, (5, 1)),\n",
    "#     'timedelay':(0, (5, 10)),\n",
    "#     'isw':(0, (3, 1, 1, 1)),\n",
    "#     'potential':(0, (3, 1, 1, 1)),\n",
    "#     'evolve':(0, (3, 1, 1, 1)),\n",
    "    'no_velocity':(0, (3, 1, 1, 1)),\n",
    "    \n",
    "    \n",
    "}\n",
    "\n",
    "for key in ls.keys():\n",
    "    plt.plot(ells, cls[key]['W2xW2'][ells], c='red', ls=ls[key], label=key)\n",
    "    plt.plot(ells, cls[key]['W1xW2'][ells], c='green', ls=ls[key])\n",
    "    \n",
    "\n",
    "plt.axhline(y=0, c='k')\n",
    "plt.legend(loc=1)\n",
    "# plt.ylim(-0.22e-8, 1.2e-8)\n",
    "plt.ylim(-2e-8, 2e-8)\n",
    "\n",
    "# plt.xlim(0, 600)\n",
    "\n",
    "# plt.xscale('log')"
   ]
  },
  {
   "cell_type": "code",
   "execution_count": 23,
   "metadata": {},
   "outputs": [],
   "source": [
    "# set_mpl()"
   ]
  },
  {
   "cell_type": "code",
   "execution_count": 37,
   "metadata": {},
   "outputs": [
    {
     "data": {
      "text/plain": [
       "(0.0, 600.0)"
      ]
     },
     "execution_count": 37,
     "metadata": {},
     "output_type": "execute_result"
    },
    {
     "data": {
      "image/png": "[encoded data removed]",
      "text/plain": [
       "<Figure size 576x360 with 1 Axes>"
      ]
     },
     "metadata": {
      "needs_background": "light"
     },
     "output_type": "display_data"
    }
   ],
   "source": [
    "ells = np.arange(2, 600)\n",
    "\n",
    "plt.figure(figsize=(8, 5))\n",
    "\n",
    "ls = {\n",
    "    'tot':'-', \n",
    "    'density':'--', \n",
    "    'redshift':'-.',\n",
    "    'lensing':':',\n",
    "    'velocity':'-',\n",
    "    'radial':(0, (5, 1)),\n",
    "    'timedelay':(0, (5, 10)),\n",
    "    'isw':(0, (3, 1, 1, 1)),\n",
    "    'potential':(0, (3, 1, 1, 1)),\n",
    "    'evolve':(0, (3, 1, 1, 1)),\n",
    "    'no_velocity':(0, (3, 1, 1, 1)),  \n",
    "    \n",
    "}\n",
    "\n",
    "linewidth={\n",
    "    'tot':3, \n",
    "    'density':2, \n",
    "    'redshift':2,\n",
    "    'lensing':2,\n",
    "    'velocity':1,\n",
    "    'radial':1,\n",
    "    'timedelay':1,\n",
    "    'isw':1,\n",
    "    'potential':1,\n",
    "    'evolve':1,\n",
    "    'no_velocity':1,\n",
    "    \n",
    "}\n",
    "\n",
    "for key in ls.keys():\n",
    "    plt.plot(ells, cls[key]['W1xW1'][ells], c='blue', ls=ls[key], linewidth=linewidth[key])\n",
    "    \n",
    "    plt.plot(ells, cls[key]['W2xW2'][ells], c='red', ls=ls[key], label=key, linewidth=linewidth[key])\n",
    "#     plt.plot(ells, cls[key]['W1xW2'][ells], c='green', ls=ls[key])\n",
    "    \n",
    "\n",
    "# plt.axhline(y=0, c='k')\n",
    "plt.legend(loc=1)\n",
    "# plt.ylim(-0.22e-8, 1.2e-8)\n",
    "plt.ylim(1e-21, 1e-3)\n",
    "\n",
    "plt.semilogy()\n",
    "plt.xlim(0, 600)\n"
   ]
  },
  {
   "cell_type": "code",
   "execution_count": null,
   "metadata": {},
   "outputs": [],
   "source": []
  },
  {
   "cell_type": "code",
   "execution_count": null,
   "metadata": {},
   "outputs": [],
   "source": []
  }
 ],
 "metadata": {
  "kernelspec": {
   "display_name": "arf2",
   "language": "python",
   "name": "arf2"
  },
  "language_info": {
   "codemirror_mode": {
    "name": "ipython",
    "version": 3
   },
   "file_extension": ".py",
   "mimetype": "text/x-python",
   "name": "python",
   "nbconvert_exporter": "python",
   "pygments_lexer": "ipython3",
   "version": "3.10.5"
  }
 },
 "nbformat": 4,
 "nbformat_minor": 4
}
