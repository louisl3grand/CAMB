{
 "cells": [
  {
   "cell_type": "markdown",
   "metadata": {},
   "source": [
    "# Fisher matrix \n",
    "\n",
    "Compute Fisher matrix with ARF and ADF"
   ]
  },
  {
   "cell_type": "code",
   "execution_count": 1,
   "metadata": {},
   "outputs": [
    {
     "name": "stdout",
     "output_type": "stream",
     "text": [
      "Using CAMB 1.3.6 installed at /Users/louis/Code/CAMBfork/camb\n"
     ]
    }
   ],
   "source": [
    "import numpy as np\n",
    "import scipy\n",
    "import os\n",
    "import matplotlib.pyplot as plt\n",
    "import sys\n",
    "import copy\n",
    "import itertools\n",
    "from scipy.linalg import block_diag\n",
    "\n",
    "import camb\n",
    "from camb import model, initialpower\n",
    "from camb.sources import GaussianSourceWindow, SplinedSourceWindow\n",
    "from camb.fisher.cachers import cacher_pk\n",
    "from camb.fisher.utils import enumerate_progress\n",
    "\n",
    "from getdist import plots\n",
    "from getdist.gaussian_mixtures import GaussianND\n",
    "\n",
    "from os.path import join as opj\n",
    "\n",
    "print('Using CAMB %s installed at %s'%(camb.__version__,os.path.dirname(camb.__file__)))\n"
   ]
  },
  {
   "cell_type": "code",
   "execution_count": 2,
   "metadata": {},
   "outputs": [],
   "source": [
    "from camb import fisher"
   ]
  },
  {
   "cell_type": "code",
   "execution_count": 3,
   "metadata": {},
   "outputs": [],
   "source": [
    "fiducial_ffp10_plancklens = {\n",
    "#     'Alens':1,\n",
    "    'As': 2.119631e-09,\n",
    "    'ns': 0.9636852,\n",
    "    'H0': 67.01904,\n",
    "#     'theta_MC_100':0.010407224216796775 *100,\n",
    "    'ombh2': 0.02216571,\n",
    "    'omch2': 0.1202944,\n",
    "    'tau':0.06018107,\n",
    "    'mnu':0.1,\n",
    "    'omk':0,\n",
    "    'w':-1,\n",
    "#     'wa':0\n",
    "}\n",
    "\n",
    "fiducials = fiducial_ffp10_plancklens"
   ]
  },
  {
   "cell_type": "code",
   "execution_count": 4,
   "metadata": {},
   "outputs": [],
   "source": [
    "# Params to derivate \n",
    "\n",
    "# params = ['As', 'ns', 'H0', 'ombh2', 'omch2', 'mnu']\n",
    "params = ['As', 'ns', 'H0', 'ombh2', 'omch2', 'mnu']\n",
    "# params = ['omch2', 'mnu']\n",
    "# params = ['As']\n",
    "\n",
    "npar= len(params)"
   ]
  },
  {
   "cell_type": "code",
   "execution_count": 5,
   "metadata": {},
   "outputs": [],
   "source": [
    "# Cls to use in the Fisher matrix \n",
    "\n",
    "# cl_keys = ['W1xW1', 'W1xW2', 'W2xW2']"
   ]
  },
  {
   "cell_type": "code",
   "execution_count": 6,
   "metadata": {},
   "outputs": [],
   "source": [
    "latex = {\n",
    "    'logA':r'\\log(10^{10} A_\\mathrm{s})',\n",
    "    'As':r'A_\\mathrm{s})',\n",
    "    'ns': r'n_\\mathrm{s}', \n",
    "    'theta_MC_100':r'100\\theta_\\mathrm{MC}', \n",
    "    'ombh2':r'\\Omega_\\mathrm{b} h^2', \n",
    "    'omch2':r'\\Omega_\\mathrm{c} h^2', \n",
    "    'tau':r'\\tau_\\mathrm{reio}', \n",
    "    'mnu':r'\\sum m_\\nu', \n",
    "    'omk':r'\\Omega_k', \n",
    "    'w':r'w_0',\n",
    "    'wa':r'w_\\mathrm{a}',\n",
    "    'H0':r'H_0'\n",
    "}\n",
    "\n",
    "labels = [latex[par] for par in params]\n",
    "\n",
    "mean = [fiducials[par] for par in list(params)]"
   ]
  },
  {
   "cell_type": "markdown",
   "metadata": {},
   "source": [
    "# Get the gaussian covariance matrix"
   ]
  },
  {
   "cell_type": "code",
   "execution_count": 7,
   "metadata": {},
   "outputs": [],
   "source": [
    "ngal_tot = 30 * 3600*(180/np.pi)**2\n",
    "sig_eps = 0.3\n",
    "ng_i = ngal_tot/10"
   ]
  },
  {
   "cell_type": "code",
   "execution_count": 8,
   "metadata": {},
   "outputs": [],
   "source": [
    "nzbin = 1\n",
    "\n",
    "# zmin = 0.1\n",
    "# zmax= 2\n",
    "sigz = 0.01\n",
    "zmean = 1\n",
    "zmin = zmean - nzbin/2*sigz\n",
    "zmax = zmean + nzbin/2*sigz\n",
    "\n",
    "\n",
    "zobs = np.linspace(zmin, zmax, nzbin)\n",
    "sgzar = np.ones_like(zobs)*sigz\n",
    "\n",
    "\n",
    "\n",
    "lmin = 10\n",
    "lmax = 2000\n",
    "\n",
    "\n",
    "biasP=1.66 \n",
    "biasR=3.8"
   ]
  },
  {
   "cell_type": "code",
   "execution_count": 9,
   "metadata": {},
   "outputs": [],
   "source": [
    "tmp_dir ='./tmp'\n",
    "\n",
    "\n",
    "def get_libdir(nzbin, zmin, zmax, sigz, lmin, lmax, biasP, biasR): \n",
    "    return opj(tmp_dir, f\"nzbin{nzbin}_zmin{zmin}_zmax{zmax}_sigz{sigz}_lmin{lmin}_lmax{lmax}_biasP{biasP}_biasR{biasR}\")"
   ]
  },
  {
   "cell_type": "code",
   "execution_count": 10,
   "metadata": {},
   "outputs": [],
   "source": [
    "libdir = get_libdir(nzbin, zmin, zmax, sigz, lmin, lmax, biasP, biasR)\n",
    "\n",
    "cacher = cacher_pk(libdir)"
   ]
  },
  {
   "cell_type": "code",
   "execution_count": 11,
   "metadata": {},
   "outputs": [
    {
     "name": "stdout",
     "output_type": "stream",
     "text": [
      " V3 ADF, window_i =            1\n",
      " V3 ARF, window_i, z_prom =            2  0.99499999999851008     \n"
     ]
    }
   ],
   "source": [
    "# Fiducial Cls \n",
    "\n",
    "fn_cls_fid = 'cls_fid'\n",
    "if not cacher.is_cached(fn_cls_fid):\n",
    "\n",
    "    pars = camb.CAMBparams()\n",
    "\n",
    "    pars.set_cosmology(H0=fiducials['H0'], ombh2=fiducials['ombh2'], omch2=fiducials['omch2'], mnu=fiducials['mnu'], omk=fiducials['omk'], tau=fiducials['tau'])\n",
    "\n",
    "    pars.InitPower.set_params(As=fiducials['As'], ns=fiducials['ns'], r=0)\n",
    "\n",
    "\n",
    "    pars.set_for_lmax(lmax, lens_potential_accuracy=0)\n",
    "    #set Want_CMB to true if you also want CMB spectra or correlations\n",
    "    pars.Want_CMB = False\n",
    "    pars.Want_CMB_lensing = False\n",
    "\n",
    "    #NonLinear_both or NonLinear_lens will use non-linear corrections\n",
    "    pars.NonLinear = model.NonLinear_both\n",
    "\n",
    "\n",
    "\n",
    "    # this dictionary considers both ADF (source_type=\"counts\") and ARF (source_type=\"arf\") for the same shell\n",
    "    # pars.SourceWindows=[\n",
    "    #     [[GaussianSourceWindow(redshift=z,source_type='counts',bias=biasP,sigma=sgz,dlog10Ndm=0.) for z in zobs] for sgz in sgzar],\n",
    "    #     [[GaussianSourceWindow(redshift=z,source_type='arf',bias=biasP,sigma=sgz,dlog10Ndm=0.) for z in zobs] for sgz in sgzar]\n",
    "    # ]\n",
    "\n",
    "\n",
    "    pars.SourceWindows = [GaussianSourceWindow(redshift=zobs[i], source_type='counts', bias=biasP, sigma=sgzar[i], dlog10Ndm=0.) for i in range(nzbin)] + \\\n",
    "    [GaussianSourceWindow(redshift=zobs[i], source_type='arf', bias=biasP, sigma=sgzar[i], dlog10Ndm=0.) for i in range(nzbin)]\n",
    "\n",
    "    results = camb.get_results(pars)\n",
    "\n",
    "    cls_fid = results.get_source_cls_dict(raw_cl=True)\n",
    "    cacher.cache(fn_cls_fid, cls_fid)\n",
    "\n",
    "cls_fid = cacher.load(fn_cls_fid)"
   ]
  },
  {
   "cell_type": "code",
   "execution_count": 12,
   "metadata": {},
   "outputs": [],
   "source": [
    "# cls_fid.keys()"
   ]
  },
  {
   "cell_type": "code",
   "execution_count": 13,
   "metadata": {},
   "outputs": [
    {
     "data": {
      "image/png": "[encoded data removed]",
      "text/plain": [
       "<Figure size 432x288 with 1 Axes>"
      ]
     },
     "metadata": {
      "needs_background": "light"
     },
     "output_type": "display_data"
    },
    {
     "data": {
      "image/png": "[encoded data removed]",
      "text/plain": [
       "<Figure size 432x288 with 1 Axes>"
      ]
     },
     "metadata": {
      "needs_background": "light"
     },
     "output_type": "display_data"
    }
   ],
   "source": [
    "for i in range(nzbin):\n",
    "    plt.loglog(cls_fid[f\"W{i+1}xW{i+1}\"])\n",
    "\n",
    "plt.figure()\n",
    "for i in range(nzbin):\n",
    "    plt.loglog(cls_fid[f\"W{i+1+nzbin}xW{i+1+nzbin}\"])"
   ]
  },
  {
   "cell_type": "code",
   "execution_count": 14,
   "metadata": {},
   "outputs": [],
   "source": [
    "# num_cls_keys = (2*nzbin)*(2*nzbin)\n",
    "cl_keys = []\n",
    "# for j in range(2*nzbin):\n",
    "#     for i in range(2*nzbin-j):\n",
    "for i, j in itertools.combinations_with_replacement(np.arange(2*nzbin), 2):\n",
    "    cl_keys.append(f'W{i+1}xW{j+1}')\n",
    "\n",
    "num_cl_keys = len(cl_keys)\n",
    "\n",
    "\n",
    "cl_adf_keys = []\n",
    "for i, j in itertools.combinations_with_replacement(np.arange(nzbin), 2):\n",
    "    cl_adf_keys.append(f'W{i+1}xW{j+1}')\n",
    "    \n",
    "    \n",
    "cl_arf_keys = []\n",
    "for i, j in itertools.combinations_with_replacement(np.arange(nzbin), 2):\n",
    "    cl_arf_keys.append(f'W{i+1+nzbin}xW{j+1+nzbin}')"
   ]
  },
  {
   "cell_type": "code",
   "execution_count": 15,
   "metadata": {},
   "outputs": [],
   "source": [
    "# max_dist_bin = 0\n",
    "max_dist_bin = nzbin\n",
    "\n",
    "# num_cls_keys = (2*nzbin)*(2*nzbin)\n",
    "cl_keys = []\n",
    "# for j in range(2*nzbin):\n",
    "#     for i in range(2*nzbin-j):\n",
    "for i, j in itertools.combinations_with_replacement(np.arange(2*nzbin), 2):\n",
    "    if np.abs(i-j) <= max_dist_bin:\n",
    "        cl_keys.append(f'W{i+1}xW{j+1}')\n",
    "    elif j>=nzbin and np.abs(i-(j-nzbin)) <= max_dist_bin:\n",
    "#         print(i, j)\n",
    "        cl_keys.append(f'W{i+1}xW{j+1}')\n",
    "\n",
    "\n",
    "# for i in range(nzbin):\n",
    "#     for j in range(nzbin-i-max_dist_bin):\n",
    "#         cl_keys.append(f'W{i+1}xW{j+1}')\n",
    "\n",
    "\n",
    "num_cl_keys = len(cl_keys)\n",
    "\n",
    "\n",
    "cl_adf_keys = []\n",
    "for i, j in itertools.combinations_with_replacement(np.arange(nzbin), 2):\n",
    "    if np.abs(i-j) <= max_dist_bin:\n",
    "        cl_adf_keys.append(f'W{i+1}xW{j+1}')\n",
    "    \n",
    "    \n",
    "cl_arf_keys = []\n",
    "for i, j in itertools.combinations_with_replacement(np.arange(nzbin), 2):\n",
    "    if np.abs(i-j) <= max_dist_bin:\n",
    "        cl_arf_keys.append(f'W{i+1+nzbin}xW{j+1+nzbin}')"
   ]
  },
  {
   "cell_type": "code",
   "execution_count": 16,
   "metadata": {},
   "outputs": [
    {
     "data": {
      "text/plain": [
       "['W1xW1', 'W1xW2', 'W2xW2']"
      ]
     },
     "execution_count": 16,
     "metadata": {},
     "output_type": "execute_result"
    }
   ],
   "source": [
    "cl_keys"
   ]
  },
  {
   "cell_type": "code",
   "execution_count": 17,
   "metadata": {},
   "outputs": [
    {
     "data": {
      "text/plain": [
       "3"
      ]
     },
     "execution_count": 17,
     "metadata": {},
     "output_type": "execute_result"
    }
   ],
   "source": [
    "len(cl_keys)"
   ]
  },
  {
   "cell_type": "code",
   "execution_count": 18,
   "metadata": {},
   "outputs": [],
   "source": [
    "# cl_adf_keys"
   ]
  },
  {
   "cell_type": "code",
   "execution_count": 19,
   "metadata": {},
   "outputs": [],
   "source": [
    "ells = np.arange(lmin, lmax) \n",
    "dell = np.ones_like(ells)"
   ]
  },
  {
   "cell_type": "code",
   "execution_count": 20,
   "metadata": {},
   "outputs": [],
   "source": [
    "# ncl = len(cl_keys)\n",
    "\n",
    "# fsky = 0.363609919  # Euclid fsky \n",
    "\n",
    "\n",
    "# cov_tot = []\n",
    "# invcov_l = []\n",
    "# for il, l in enumerate(ells):\n",
    "# #     print(il, l)\n",
    "#     cl_dict_l = {}\n",
    "#     nl_dict = {}\n",
    "# #     for idx, (i, j) in enumerate(indices_wl):\n",
    "# #         spectrum = spectrum = 'W{}xW{}'.format(i+11, j+11)\n",
    "    \n",
    "#     # To do : Add noise \n",
    "#     for key in cl_keys:\n",
    "#         cl_dict_l[key] = cls_fid[key][l]\n",
    "        \n",
    "#         nl_dict[key] = 0\n",
    "#         if (key[:2] == key[-2:]):\n",
    "#             nl_dict[key] = sig_eps**2/ng_i\n",
    "            \n",
    "            \n",
    "# #     cl_keys = list(cl_dict_l.keys())\n",
    "\n",
    "# #     ncl = len(cl_keys)\n",
    "\n",
    "#     cov_l = np.zeros([ncl, ncl])\n",
    "\n",
    "#     # Get symetric Cls for permutations\n",
    "#     for key in cl_keys:\n",
    "#         probeA, probeB = key.split('x')\n",
    "#         cl_dict_l['x'.join([probeB, probeA])] = cl_dict_l[key]\n",
    "#         nl_dict['x'.join([probeB, probeA])] = nl_dict[key]\n",
    "\n",
    "#     for (idx1, key1), (idx2, key2) in itertools.combinations_with_replacement(enumerate(cl_keys), 2):\n",
    "#         # print(key1, key2)\n",
    "#         probeA, probeB = key1.split('x')\n",
    "#         probeC, probeD = key2.split('x')\n",
    "# #         if il == 0:\n",
    "# #             print(probeA, probeB, probeC, probeD)\n",
    "#         cov_l[idx1, idx2] = 1. / (fsky * (2. * l + 1.) * dell[il]) \\\n",
    "#             * (\n",
    "#                 (cl_dict_l['x'.join([probeA, probeC])] + nl_dict['x'.join([probeA, probeC])]) *\n",
    "#                 (cl_dict_l['x'.join([probeB, probeD])] + nl_dict['x'.join([probeB, probeD])]) +\n",
    "#                 (cl_dict_l['x'.join([probeA, probeD])] + nl_dict['x'.join([probeA, probeD])]) *\n",
    "#                 (cl_dict_l['x'.join([probeB, probeC])] + nl_dict['x'.join([probeB, probeC])])\n",
    "#         )\n",
    "\n",
    "#     # Get the symmetric matrix\n",
    "#     cov_l = cov_l + cov_l.T - np.diag(cov_l.diagonal())\n",
    "#     cov_tot.append(cov_l)\n",
    "#     invcov_l.append(np.linalg.inv(cov_l))\n",
    "    \n",
    "# # covmat = block_diag(*cov_tot)\n",
    "\n",
    "# # # np.save('covmat_euclid_wl', np.array(cov_tot))"
   ]
  },
  {
   "cell_type": "code",
   "execution_count": 21,
   "metadata": {},
   "outputs": [],
   "source": [
    "def get_cov(cls_fid, cl_keys, fsky = 0.363609919):\n",
    "    cov_tot = []\n",
    "    invcov_l = []\n",
    "    for il, l in enumerate_progress(ells):\n",
    "#         print(l)\n",
    "        cl_dict_l = {}\n",
    "        nl_dict = {}\n",
    "\n",
    "        #TODO : Add noise \n",
    "        for key in cls_fid.keys():\n",
    "            cl_dict_l[key] = cls_fid[key][l]\n",
    "            \n",
    "            nl_dict[key] = 0\n",
    "            if (key[:2] == key[-2:]):\n",
    "                nl_dict[key] = sig_eps**2/ng_i\n",
    "        ncl = len(cl_keys)\n",
    "        cov_l = np.zeros([ncl, ncl])\n",
    "\n",
    "        # Get symetric Cls for permutations\n",
    "        for key in cl_keys:\n",
    "            probeA, probeB = key.split('x')\n",
    "            cl_dict_l['x'.join([probeB, probeA])] = cl_dict_l[key]\n",
    "            nl_dict['x'.join([probeB, probeA])] = nl_dict[key]\n",
    "\n",
    "        for (idx1, key1), (idx2, key2) in itertools.combinations_with_replacement(enumerate(cl_keys), 2):\n",
    "            # print(key1, key2)\n",
    "            probeA, probeB = key1.split('x')\n",
    "            probeC, probeD = key2.split('x')\n",
    "    #         if il == 0:\n",
    "    #             print(probeA, probeB, probeC, probeD)\n",
    "            cov_l[idx1, idx2] = 1. / (fsky * (2. * l + 1.) * dell[il]) \\\n",
    "                * (\n",
    "                    (cl_dict_l['x'.join([probeA, probeC])] + nl_dict['x'.join([probeA, probeC])]) *\n",
    "                    (cl_dict_l['x'.join([probeB, probeD])] + nl_dict['x'.join([probeB, probeD])]) +\n",
    "                    (cl_dict_l['x'.join([probeA, probeD])] + nl_dict['x'.join([probeA, probeD])]) *\n",
    "                    (cl_dict_l['x'.join([probeB, probeC])] + nl_dict['x'.join([probeB, probeC])])\n",
    "            )\n",
    "\n",
    "        # Get the symmetric matrix\n",
    "        cov_l = cov_l + cov_l.T - np.diag(cov_l.diagonal())\n",
    "        cov_tot.append(cov_l)\n",
    "        invcov_l.append(np.linalg.inv(cov_l))\n",
    "    return cov_tot, invcov_l"
   ]
  },
  {
   "cell_type": "code",
   "execution_count": 22,
   "metadata": {},
   "outputs": [
    {
     "name": "stdout",
     "output_type": "stream",
     "text": [
      " [00:00:00]  ---------> 99%\n",
      " [00:00:00]  ---------> 99%\n",
      " [00:00:00]  ---------> 99%\n"
     ]
    }
   ],
   "source": [
    "cov = {}\n",
    "invcov = {}\n",
    "\n",
    "for p in ['tot', 'adf', 'arf']:\n",
    "    fn_cov = f'cov_{p}_maxdistbin{max_dist_bin}'\n",
    "    fn_invcov = f'invcov_{p}_maxdistbin{max_dist_bin}'\n",
    "    if p == 'tot':\n",
    "        ck = cl_keys\n",
    "    elif p == 'adf':\n",
    "        ck = cl_adf_keys\n",
    "    elif p == 'arf':\n",
    "        ck = cl_arf_keys\n",
    "    if np.any([not cacher.is_cached(fn) for fn in [fn_cov, fn_invcov]]):\n",
    "        _cov, _invcov = get_cov(cls_fid, ck)\n",
    "        cacher.cache(fn_cov, _cov)\n",
    "        cacher.cache(fn_invcov, _invcov)\n",
    "    cov[p] = cacher.load(fn_cov)\n",
    "    invcov[p] = cacher.load(fn_invcov)           \n"
   ]
  },
  {
   "cell_type": "code",
   "execution_count": 23,
   "metadata": {},
   "outputs": [],
   "source": [
    "# fn_cov_adf = f'cov_adf_maxdistbin{max_dist_bin}'\n",
    "# fn_invcov_adf = f'cov_adf_maxdistbin{max_dist_bin}'\n",
    "\n",
    "# if np.any([not cacher.is_cached(fn) for fn in [fn_cov_adf, fn_invcov_adf]]):\n",
    "#     cov, invcov = get_cov(cls_fid, cl_adf_keys)\n",
    "#     cacher.cache(fn_cov_adf, cov)\n",
    "#     cacher.cache(fn_invcov_adf, invcov)           \n",
    "# cov_adf = cacher.load(fn_cov_adf)\n",
    "# invcov_adf = cacher.load(fn_invcov_adf)  \n",
    "    \n",
    "# # cov_adf, invcov_adf = get_cov(cls_fid, cl_adf_keys)\n",
    "\n",
    "# # cov_arf, invcov_arf = get_cov(cls_fid, cl_arf_keys)"
   ]
  },
  {
   "cell_type": "code",
   "execution_count": 24,
   "metadata": {},
   "outputs": [],
   "source": [
    "# fn_cov_arf = f'cov_arf_maxdistbin{max_dist_bin}'\n",
    "# fn_invcov_arf = f'cov_arf_maxdistbin{max_dist_bin}'\n",
    "\n",
    "# if np.any([not cacher.is_cached(fn) for fn in [fn_cov_arf, fn_invcov_arf]]):\n",
    "#     cov, invcov = get_cov(cls_fid, cl_arf_keys)\n",
    "#     cacher.cache(fn_cov_arf, cov)\n",
    "#     cacher.cache(fn_invcov_arf, invcov)           \n",
    "# cov_arf = cacher.load(fn_cov_arf)\n",
    "# invcov_arf = cacher.load(fn_invcov_arf)  "
   ]
  },
  {
   "cell_type": "code",
   "execution_count": 25,
   "metadata": {},
   "outputs": [],
   "source": [
    "def cov_to_corr(covariance):\n",
    "    v = np.sqrt(np.diag(covariance))\n",
    "    outer_v = np.outer(v, v)\n",
    "    correlation = covariance / outer_v\n",
    "    correlation[covariance == 0] = 0\n",
    "    return correlation"
   ]
  },
  {
   "cell_type": "code",
   "execution_count": 26,
   "metadata": {},
   "outputs": [],
   "source": [
    "# plt.imshow(cov_to_corr(covmat), cmap='RdBu', vmin=-1, vmax=1)"
   ]
  },
  {
   "cell_type": "code",
   "execution_count": 27,
   "metadata": {},
   "outputs": [],
   "source": [
    "# plt.loglog(np.diag(covmat))"
   ]
  },
  {
   "cell_type": "code",
   "execution_count": 28,
   "metadata": {},
   "outputs": [],
   "source": [
    "# invcov = np.linalg.inv(covmat)"
   ]
  },
  {
   "cell_type": "code",
   "execution_count": 29,
   "metadata": {},
   "outputs": [
    {
     "name": "stdout",
     "output_type": "stream",
     "text": [
      "As\n",
      " V3 ADF, window_i =            1\n",
      " V3 ARF, window_i, z_prom =            2  0.99499999999851008     \n",
      " V3 ADF, window_i =            1\n",
      " V3 ARF, window_i, z_prom =            2  0.99499999999851008     \n",
      "ns\n",
      " V3 ADF, window_i =            1\n",
      " V3 ARF, window_i, z_prom =            2  0.99499999999851008     \n",
      " V3 ADF, window_i =            1\n",
      " V3 ARF, window_i, z_prom =            2  0.99499999999851008     \n",
      "H0\n",
      " V3 ADF, window_i =            1\n",
      " V3 ARF, window_i, z_prom =            2  0.99499999999808042     \n",
      " V3 ADF, window_i =            1\n",
      " V3 ARF, window_i, z_prom =            2  0.99499999999846944     \n",
      "ombh2\n",
      " V3 ADF, window_i =            1\n",
      " V3 ARF, window_i, z_prom =            2  0.99499999999717936     \n",
      " V3 ADF, window_i =            1\n",
      " V3 ARF, window_i, z_prom =            2  0.99499999999970801     \n",
      "omch2\n",
      " V3 ADF, window_i =            1\n",
      " V3 ARF, window_i, z_prom =            2  0.99499999999713706     \n",
      " V3 ADF, window_i =            1\n",
      " V3 ARF, window_i, z_prom =            2  0.99499999999985389     \n",
      "mnu\n",
      " V3 ADF, window_i =            1\n",
      " V3 ARF, window_i, z_prom =            2  0.99499999999847555     \n",
      " V3 ADF, window_i =            1\n",
      " V3 ARF, window_i, z_prom =            2  0.99499999999862820     \n"
     ]
    }
   ],
   "source": [
    "eps = 0.02\n",
    "\n",
    "fn_delta_par = f\"delta_par_{eps}\"\n",
    "fn_cls_dpar_p = f\"cls_dpar_p_{eps}\"\n",
    "fn_cls_dpar_m = f\"cls_dpar_m_{eps}\"\n",
    "\n",
    "\n",
    "if np.any([not cacher.is_cached(fn) for fn in [fn_delta_par, fn_cls_dpar_p, fn_cls_dpar_m]]):\n",
    "    delta_par = {}\n",
    "    cls_dpar_p = {}\n",
    "    cls_dpar_m = {}\n",
    "\n",
    "    for par in params:\n",
    "        print(par)\n",
    "        dpar_p = copy.deepcopy(fiducials)\n",
    "        dpar_m = copy.deepcopy(fiducials)\n",
    "\n",
    "        if dpar_p[par] == 0:\n",
    "            dpar_p[par] = eps\n",
    "            dpar_m[par] = - eps\n",
    "            delta_par[par] = 2*eps\n",
    "        else:\n",
    "            dpar_p[par] *= 1 + eps\n",
    "            dpar_m[par] *= 1 - eps\n",
    "            delta_par[par] = 2*eps*fiducials[par]\n",
    "\n",
    "        # Plus\n",
    "        pars.set_cosmology(H0=dpar_p['H0'], ombh2=dpar_p['ombh2'], omch2=dpar_p['omch2'], mnu=dpar_p['mnu'], omk=dpar_p['omk'], tau=dpar_p['tau'])\n",
    "\n",
    "        pars.InitPower.set_params(As=dpar_p['As'], ns=dpar_p['ns'], r=0)\n",
    "        results_p = camb.get_results(pars)\n",
    "\n",
    "        cls_dpar_p[par] = results_p.get_cmb_unlensed_scalar_array_dict(raw_cl=True)\n",
    "\n",
    "        # Minus \n",
    "        pars.set_cosmology(H0=dpar_m['H0'], ombh2=dpar_m['ombh2'], omch2=dpar_m['omch2'], mnu=dpar_m['mnu'], omk=dpar_m['omk'], tau=dpar_m['tau'])\n",
    "\n",
    "        pars.InitPower.set_params(As=dpar_m['As'], ns=dpar_m['ns'], r=0)\n",
    "\n",
    "        results_m = camb.get_results(pars)\n",
    "\n",
    "        cls_dpar_m[par] = results_m.get_cmb_unlensed_scalar_array_dict(raw_cl=True)\n",
    "    cacher.cache(fn_delta_par, delta_par)\n",
    "    cacher.cache(fn_cls_dpar_p, cls_dpar_p)\n",
    "    cacher.cache(fn_cls_dpar_m, cls_dpar_m)\n",
    "    \n",
    "delta_par = cacher.load(fn_delta_par)\n",
    "cls_dpar_p = cacher.load(fn_cls_dpar_p)\n",
    "cls_dpar_m = cacher.load(fn_cls_dpar_m)\n"
   ]
  },
  {
   "cell_type": "code",
   "execution_count": 30,
   "metadata": {},
   "outputs": [],
   "source": [
    "# dcls_dpar = {}\n",
    "# dcls_adf_dpar = {}\n",
    "# dcls_arf_dpar = {}\n",
    "\n",
    "# for par in params:\n",
    "#     dcls_dpar[par] = {}\n",
    "#     dcls_adf_dpar[par] = {}\n",
    "#     dcls_arf_dpar[par] = {}\n",
    "    \n",
    "#     for il, ell in enumerate(ells):\n",
    "#         dcls_dpar[par][ell] = np.zeros(len(cl_keys))\n",
    "#         dcls_adf_dpar[par][ell] = np.zeros(len(cl_adf_keys))\n",
    "#         dcls_arf_dpar[par][ell] = np.zeros(len(cl_arf_keys))\n",
    "#         for ik, key in enumerate(cl_keys):\n",
    "#             dcls_dpar[par][ell][ik] = (cls_dpar_p[par][key][ell] - cls_dpar_m[par][key][ell])/(delta_par[par])\n",
    "#         for ik, key in enumerate(cl_adf_keys):\n",
    "#             dcls_arf_dpar[par][ell][ik] = (cls_dpar_p[par][key][ell] - cls_dpar_m[par][key][ell])/(delta_par[par])\n",
    "            \n",
    "#         for ik, key in enumerate(cl_arf_keys):\n",
    "#             dcls_arf_dpar[par][ell][ik] = (cls_dpar_p[par][key][ell] - cls_dpar_m[par][key][ell])/(delta_par[par])\n",
    "#     dcls_dpar[par] = np.array(dcls_dpar[par])"
   ]
  },
  {
   "cell_type": "code",
   "execution_count": 31,
   "metadata": {},
   "outputs": [],
   "source": [
    "# cl_keys"
   ]
  },
  {
   "cell_type": "code",
   "execution_count": 32,
   "metadata": {},
   "outputs": [],
   "source": [
    "\n",
    "# for par in params:\n",
    "#     plt.figure()\n",
    "#     plt.title(par)\n",
    "#     for ik, key in enumerate(cl_keys):\n",
    "#         plt.loglog(ells, np.abs([dcls_dpar[par][ell][ik] for ell in ells]), label=key)\n",
    "\n",
    "#     plt.legend()"
   ]
  },
  {
   "cell_type": "code",
   "execution_count": 33,
   "metadata": {},
   "outputs": [
    {
     "data": {
      "text/plain": [
       "<matplotlib.image.AxesImage at 0x15a3ec970>"
      ]
     },
     "execution_count": 33,
     "metadata": {},
     "output_type": "execute_result"
    },
    {
     "data": {
      "image/png": "[encoded data removed]",
      "text/plain": [
       "<Figure size 432x288 with 1 Axes>"
      ]
     },
     "metadata": {
      "needs_background": "light"
     },
     "output_type": "display_data"
    }
   ],
   "source": [
    "plt.imshow(cov_to_corr(cov['tot'][0]), cmap='RdBu', vmin=-1, vmax=1)"
   ]
  },
  {
   "cell_type": "code",
   "execution_count": 34,
   "metadata": {},
   "outputs": [],
   "source": [
    "# fisher = np.zeros([npar, npar])\n",
    "# # invcov_w = like_euclid_wl.invcovmat_l\n",
    "\n",
    "# for (i1, par1), (i2, par2) in itertools.combinations_with_replacement(enumerate(params), 2):\n",
    "#     for il, l in enumerate(ells):\n",
    "#         fisher[i1, i2] += np.dot(np.dot(dcls_dpar[par1][ell], invcov_l[il]), dcls_dpar[par2][ell])\n",
    "\n",
    "# fisher = fisher + fisher.T - np.diag(fisher.diagonal())"
   ]
  },
  {
   "cell_type": "code",
   "execution_count": 35,
   "metadata": {},
   "outputs": [],
   "source": [
    "def get_fisher(params, cls_dpar_p, cls_dpar_m, invcov_l, cl_keys):\n",
    "    print(cl_keys)\n",
    "    dcls_dpar = {}\n",
    "    for par in params:\n",
    "        dcls_dpar[par] = {}\n",
    "        for il, ell in enumerate(ells):\n",
    "            dcls_dpar[par][ell] = np.zeros(len(cl_keys))\n",
    "            for ik, key in enumerate(cl_keys):\n",
    "                dcls_dpar[par][ell][ik] = (cls_dpar_p[par][key][ell] - cls_dpar_m[par][key][ell])/(delta_par[par])\n",
    "    \n",
    "    fisher = np.zeros([npar, npar])\n",
    "    # invcov_w = like_euclid_wl.invcovmat_l\n",
    "#     print(cl_keys)\n",
    "    for (i1, par1), (i2, par2) in itertools.combinations_with_replacement(enumerate(params), 2):\n",
    "        for il, l in enumerate(ells):\n",
    "            fisher[i1, i2] += np.dot(np.dot(dcls_dpar[par1][ell], invcov_l[il]), dcls_dpar[par2][ell])  \n",
    "    fisher = fisher + fisher.T - np.diag(fisher.diagonal())    \n",
    "    return fisher, dcls_dpar"
   ]
  },
  {
   "cell_type": "code",
   "execution_count": 36,
   "metadata": {},
   "outputs": [
    {
     "name": "stdout",
     "output_type": "stream",
     "text": [
      "['W1xW1', 'W1xW2', 'W2xW2']\n",
      "['W1xW1']\n",
      "['W2xW2']\n"
     ]
    }
   ],
   "source": [
    "fish_tot, dcls_par_tot = get_fisher(params, cls_dpar_p, cls_dpar_m, invcov['tot'], cl_keys)\n",
    "fish_adf, dcls_par_adf = get_fisher(params, cls_dpar_p, cls_dpar_m, invcov['adf'], cl_adf_keys)\n",
    "fish_arf, dcls_par_arf = get_fisher(params, cls_dpar_p, cls_dpar_m, invcov['arf'], cl_arf_keys)"
   ]
  },
  {
   "cell_type": "code",
   "execution_count": 37,
   "metadata": {},
   "outputs": [
    {
     "data": {
      "image/png": "[encoded data removed]",
      "text/plain": [
       "<Figure size 432x288 with 1 Axes>"
      ]
     },
     "metadata": {
      "needs_background": "light"
     },
     "output_type": "display_data"
    },
    {
     "data": {
      "image/png": "[encoded data removed]",
      "text/plain": [
       "<Figure size 432x288 with 1 Axes>"
      ]
     },
     "metadata": {
      "needs_background": "light"
     },
     "output_type": "display_data"
    },
    {
     "data": {
      "image/png": "[encoded data removed]",
      "text/plain": [
       "<Figure size 432x288 with 1 Axes>"
      ]
     },
     "metadata": {
      "needs_background": "light"
     },
     "output_type": "display_data"
    },
    {
     "data": {
      "image/png": "[encoded data removed]",
      "text/plain": [
       "<Figure size 432x288 with 1 Axes>"
      ]
     },
     "metadata": {
      "needs_background": "light"
     },
     "output_type": "display_data"
    },
    {
     "data": {
      "image/png": "[encoded data removed]",
      "text/plain": [
       "<Figure size 432x288 with 1 Axes>"
      ]
     },
     "metadata": {
      "needs_background": "light"
     },
     "output_type": "display_data"
    },
    {
     "data": {
      "image/png": "[encoded data removed]",
      "text/plain": [
       "<Figure size 432x288 with 1 Axes>"
      ]
     },
     "metadata": {
      "needs_background": "light"
     },
     "output_type": "display_data"
    }
   ],
   "source": [
    "# plt.plot(ells, np.array([dcls_par_tot['As'][ell][0] for ell in ells]))\n",
    "# plt.plot(ells, np.array([dcls_par_adf['As'][ell][0] for ell in ells]))\n",
    "# plt.plot(ells, np.array([dcls_par_arf['As'][ell][0] for ell in ells]))\n",
    "\n",
    "\n",
    "# param = 'As'\n",
    "# param = 'ns'\n",
    "\n",
    "for param in params:\n",
    "    plt.figure()\n",
    "    plt.title(param)\n",
    "    for ik, key in enumerate(cl_keys):\n",
    "        i1, i2 = key.split('x')\n",
    "        if i2 == i2:\n",
    "            plt.plot(ells, np.abs(np.array([dcls_par_tot[param][ell][ik] for ell in ells])), label=key)\n",
    "\n",
    "    plt.loglog()\n",
    "#     plt.legend()"
   ]
  },
  {
   "cell_type": "code",
   "execution_count": null,
   "metadata": {},
   "outputs": [],
   "source": []
  },
  {
   "cell_type": "code",
   "execution_count": 38,
   "metadata": {},
   "outputs": [
    {
     "data": {
      "text/plain": [
       "array([[ 9.92211107e-05, -3.50065202e+04, -6.67563491e+06,\n",
       "         5.64406586e+02,  3.03973230e+03,  1.17727016e+04],\n",
       "       [-3.84065138e+04,  1.42225089e+13,  2.65935212e+15,\n",
       "        -2.09985356e+11, -1.31509971e+12, -6.43672432e+12],\n",
       "       [-6.96149122e+06,  2.51455490e+15,  5.61448754e+17,\n",
       "        -4.31628795e+13, -2.57976440e+14, -9.61706170e+14],\n",
       "       [ 1.28320530e+02, -3.40547703e+10, -1.21792057e+13,\n",
       "        -2.73200582e+09, -2.09665563e+08,  3.17166816e+10],\n",
       "       [ 2.82064673e+03, -1.11713201e+12, -2.34562481e+14,\n",
       "         1.27747745e+10,  1.09466602e+11,  3.66503876e+11],\n",
       "       [ 9.88392924e+03, -5.13105426e+12, -7.50599938e+14,\n",
       "         9.16259690e+10,  3.20690891e+11, -5.86406201e+12]])"
      ]
     },
     "execution_count": 38,
     "metadata": {},
     "output_type": "execute_result"
    }
   ],
   "source": [
    "np.linalg.inv(fish_arf)"
   ]
  },
  {
   "cell_type": "code",
   "execution_count": 39,
   "metadata": {},
   "outputs": [
    {
     "name": "stdout",
     "output_type": "stream",
     "text": [
      "As :\n",
      "  tot 50065.12593377758 \n",
      "  adf 27201.792976405653 \n",
      "  arf 4699393.151393144 \n",
      "ns :\n",
      "  tot 7891.565541496837 \n",
      "  adf 23756.231236434873 \n",
      "  arf 3913388.0776118757 \n",
      "H0 :\n",
      "  tot 19174.60107694123 \n",
      "  adf 53354.83819620849 \n",
      "  arf 11180387.562718226 \n",
      "ombh2 :\n",
      "  tot 124939.83803041842 \n",
      "  adf 78363.72658578667 \n",
      "  arf 2358083.4134062263 \n",
      "omch2 :\n",
      "  tot 25335.491950191463 \n",
      "  adf 34676.58347894584 \n",
      "  arf 2750397.1478031473 \n",
      "mnu :\n",
      "  tot 901041.4388462628 \n",
      "  adf 505746.66591522604 \n",
      "  arf 24215825.43463124 \n"
     ]
    }
   ],
   "source": [
    "for ip, par in enumerate(params):\n",
    "    if fish_tot[ip, ip] == 0:\n",
    "        print(\"{} : 0 \".format(par))\n",
    "    else:\n",
    "#         print(\"{} : {} \".format(par, np.sqrt(1/fish[ip, ip]) / fiducials[par]))\n",
    "        \n",
    "#         print(\"{} : {} \".format(par, np.sqrt(np.linalg.inv(fisher)[ip, ip]) / fiducials[par])) \n",
    "#         print(np.linalg.inv(fisher)[ip, ip])\n",
    "        print(f\"{par} :\")\n",
    "        print(\"  tot {} \".format(np.sqrt(np.abs(np.linalg.inv(fish_tot)[ip, ip])) / fiducials[par]))  \n",
    "    \n",
    "        print(\"  adf {} \".format(np.sqrt(np.abs(np.linalg.inv(fish_adf)[ip, ip])) / fiducials[par]))                 \n",
    "        \n",
    "        print(\"  arf {} \".format(np.sqrt(np.abs(np.linalg.inv(fish_arf)[ip, ip])) / fiducials[par]))                     "
   ]
  },
  {
   "cell_type": "code",
   "execution_count": 40,
   "metadata": {},
   "outputs": [
    {
     "name": "stderr",
     "output_type": "stream",
     "text": [
      "/Users/louis/Code/getdist/getdist/gaussian_mixtures.py:39: RuntimeWarning: invalid value encountered in sqrt\n",
      "  self.norms = (2 * np.pi) ** (0.5 * self.dim) * np.array([np.sqrt(np.linalg.det(cov)) for cov in self.covs])\n"
     ]
    }
   ],
   "source": [
    "gauss_tot = GaussianND(mean, np.linalg.inv(fish_tot), names=params, labels=labels)\n",
    "gauss_adf = GaussianND(mean, np.linalg.inv(fish_adf), names=params, labels=labels)\n",
    "gauss_arf = GaussianND(mean, np.linalg.inv(fish_arf), names=params, labels=labels)\n",
    "# Plots\n",
    "# from getdist import plots\n",
    "# from getdist.gaussian_mixtures import GaussianND"
   ]
  },
  {
   "cell_type": "code",
   "execution_count": 41,
   "metadata": {},
   "outputs": [
    {
     "name": "stderr",
     "output_type": "stream",
     "text": [
      "/Users/louis/Code/getdist/getdist/gaussian_mixtures.py:114: RuntimeWarning: invalid value encountered in sqrt\n",
      "  sigma = np.sqrt(cov[i, i])\n",
      "/Users/louis/Code/getdist/getdist/gaussian_mixtures.py:164: RuntimeWarning: invalid value encountered in sqrt\n",
      "  res = np.exp(-dx ** 2 / var / 2) / np.sqrt(2 * np.pi * var)\n"
     ]
    },
    {
     "ename": "ValueError",
     "evalue": "Axis limits cannot be NaN or Inf",
     "output_type": "error",
     "traceback": [
      "\u001b[0;31m---------------------------------------------------------------------------\u001b[0m",
      "\u001b[0;31mValueError\u001b[0m                                Traceback (most recent call last)",
      "Input \u001b[0;32mIn [41]\u001b[0m, in \u001b[0;36m<cell line: 3>\u001b[0;34m()\u001b[0m\n\u001b[1;32m      1\u001b[0m g \u001b[38;5;241m=\u001b[39m plots\u001b[38;5;241m.\u001b[39mget_subplot_plotter()\n\u001b[0;32m----> 3\u001b[0m \u001b[43mg\u001b[49m\u001b[38;5;241;43m.\u001b[39;49m\u001b[43mtriangle_plot\u001b[49m\u001b[43m(\u001b[49m\u001b[43m[\u001b[49m\u001b[43mgauss_adf\u001b[49m\u001b[43m,\u001b[49m\u001b[43m \u001b[49m\u001b[43mgauss_arf\u001b[49m\u001b[43m,\u001b[49m\u001b[43m \u001b[49m\u001b[43mgauss_tot\u001b[49m\u001b[43m]\u001b[49m\u001b[43m,\u001b[49m\u001b[43m  \u001b[49m\u001b[43mfilled\u001b[49m\u001b[38;5;241;43m=\u001b[39;49m\u001b[38;5;28;43;01mTrue\u001b[39;49;00m\u001b[43m,\u001b[49m\u001b[43m \u001b[49m\n\u001b[1;32m      4\u001b[0m \u001b[43m                \u001b[49m\u001b[43mmarkers\u001b[49m\u001b[38;5;241;43m=\u001b[39;49m\u001b[43mfiducials\u001b[49m\u001b[43m,\u001b[49m\u001b[43m \u001b[49m\n\u001b[1;32m      5\u001b[0m \u001b[43m                \u001b[49m\u001b[43mmarker_args\u001b[49m\u001b[38;5;241;43m=\u001b[39;49m\u001b[43m{\u001b[49m\u001b[38;5;124;43m'\u001b[39;49m\u001b[38;5;124;43mlw\u001b[39;49m\u001b[38;5;124;43m'\u001b[39;49m\u001b[43m:\u001b[49m\u001b[38;5;241;43m2.\u001b[39;49m\u001b[43m}\u001b[49m\u001b[43m)\u001b[49m\n",
      "File \u001b[0;32m~/Code/getdist/getdist/plots.py:2432\u001b[0m, in \u001b[0;36mGetDistPlotter.triangle_plot\u001b[0;34m(self, roots, params, legend_labels, plot_3d_with_param, filled, shaded, contour_args, contour_colors, contour_ls, contour_lws, line_args, label_order, legend_ncol, legend_loc, title_limit, upper_roots, upper_kwargs, upper_label_right, diag1d_kwargs, markers, marker_args, param_limits, **kwargs)\u001b[0m\n\u001b[1;32m   2430\u001b[0m marker \u001b[38;5;241m=\u001b[39m \u001b[38;5;28mself\u001b[39m\u001b[38;5;241m.\u001b[39m_get_marker(markers, i, param\u001b[38;5;241m.\u001b[39mname)\n\u001b[1;32m   2431\u001b[0m \u001b[38;5;28mself\u001b[39m\u001b[38;5;241m.\u001b[39m_inner_ticks(ax, \u001b[38;5;28;01mFalse\u001b[39;00m)\n\u001b[0;32m-> 2432\u001b[0m xlim \u001b[38;5;241m=\u001b[39m \u001b[38;5;28;43mself\u001b[39;49m\u001b[38;5;241;43m.\u001b[39;49m\u001b[43mplot_1d\u001b[49m\u001b[43m(\u001b[49m\u001b[43mroots1d\u001b[49m\u001b[43m,\u001b[49m\u001b[43m \u001b[49m\u001b[43mparam\u001b[49m\u001b[43m,\u001b[49m\u001b[43m \u001b[49m\u001b[43mmarker\u001b[49m\u001b[38;5;241;43m=\u001b[39;49m\u001b[43mmarker\u001b[49m\u001b[43m,\u001b[49m\u001b[43m \u001b[49m\u001b[43mdo_xlabel\u001b[49m\u001b[38;5;241;43m=\u001b[39;49m\u001b[43mi\u001b[49m\u001b[43m \u001b[49m\u001b[38;5;241;43m==\u001b[39;49m\u001b[43m \u001b[49m\u001b[43mplot_col\u001b[49m\u001b[43m \u001b[49m\u001b[38;5;241;43m-\u001b[39;49m\u001b[43m \u001b[49m\u001b[38;5;241;43m1\u001b[39;49m\u001b[43m,\u001b[49m\n\u001b[1;32m   2433\u001b[0m \u001b[43m                    \u001b[49m\u001b[43mno_label_no_numbers\u001b[49m\u001b[38;5;241;43m=\u001b[39;49m\u001b[38;5;28;43mself\u001b[39;49m\u001b[38;5;241;43m.\u001b[39;49m\u001b[43msettings\u001b[49m\u001b[38;5;241;43m.\u001b[39;49m\u001b[43mno_triangle_axis_labels\u001b[49m\u001b[43m,\u001b[49m\u001b[43m \u001b[49m\u001b[43mtitle_limit\u001b[49m\u001b[38;5;241;43m=\u001b[39;49m\u001b[43mtitle_limit\u001b[49m\u001b[43m,\u001b[49m\n\u001b[1;32m   2434\u001b[0m \u001b[43m                    \u001b[49m\u001b[43mlabel_right\u001b[49m\u001b[38;5;241;43m=\u001b[39;49m\u001b[38;5;28;43;01mTrue\u001b[39;49;00m\u001b[43m,\u001b[49m\u001b[43m \u001b[49m\u001b[43mno_zero\u001b[49m\u001b[38;5;241;43m=\u001b[39;49m\u001b[38;5;28;43;01mTrue\u001b[39;49;00m\u001b[43m,\u001b[49m\u001b[43m \u001b[49m\u001b[43mno_ylabel\u001b[49m\u001b[38;5;241;43m=\u001b[39;49m\u001b[38;5;28;43;01mTrue\u001b[39;49;00m\u001b[43m,\u001b[49m\u001b[43m \u001b[49m\u001b[43mno_ytick\u001b[49m\u001b[38;5;241;43m=\u001b[39;49m\u001b[38;5;28;43;01mTrue\u001b[39;49;00m\u001b[43m,\u001b[49m\u001b[43m \u001b[49m\u001b[43mline_args\u001b[49m\u001b[38;5;241;43m=\u001b[39;49m\u001b[43mline_args\u001b[49m\u001b[43m,\u001b[49m\n\u001b[1;32m   2435\u001b[0m \u001b[43m                    \u001b[49m\u001b[43mlims\u001b[49m\u001b[38;5;241;43m=\u001b[39;49m\u001b[43mparam_limits\u001b[49m\u001b[38;5;241;43m.\u001b[39;49m\u001b[43mget\u001b[49m\u001b[43m(\u001b[49m\u001b[43mparam\u001b[49m\u001b[38;5;241;43m.\u001b[39;49m\u001b[43mname\u001b[49m\u001b[43m)\u001b[49m\u001b[43m,\u001b[49m\u001b[43m \u001b[49m\u001b[43max\u001b[49m\u001b[38;5;241;43m=\u001b[39;49m\u001b[43max\u001b[49m\u001b[43m,\u001b[49m\u001b[43m \u001b[49m\u001b[43m_ret_range\u001b[49m\u001b[38;5;241;43m=\u001b[39;49m\u001b[38;5;28;43;01mTrue\u001b[39;49;00m\u001b[43m,\u001b[49m\u001b[43m \u001b[49m\u001b[38;5;241;43m*\u001b[39;49m\u001b[38;5;241;43m*\u001b[39;49m\u001b[43mdiag1d_kwargs\u001b[49m\u001b[43m)\u001b[49m\n\u001b[1;32m   2436\u001b[0m lims[i] \u001b[38;5;241m=\u001b[39m xlim\n\u001b[1;32m   2437\u001b[0m \u001b[38;5;28;01mif\u001b[39;00m i \u001b[38;5;241m>\u001b[39m \u001b[38;5;241m0\u001b[39m:\n",
      "File \u001b[0;32m~/Code/getdist/getdist/plots.py:1610\u001b[0m, in \u001b[0;36mGetDistPlotter.plot_1d\u001b[0;34m(self, roots, param, marker, marker_color, label_right, title_limit, no_ylabel, no_ytick, no_zero, normalized, param_renames, ax, **kwargs)\u001b[0m\n\u001b[1;32m   1608\u001b[0m     mx \u001b[38;5;241m=\u001b[39m \u001b[38;5;241m1.099\u001b[39m\n\u001b[1;32m   1609\u001b[0m kwargs[\u001b[38;5;124m'\u001b[39m\u001b[38;5;124mlims\u001b[39m\u001b[38;5;124m'\u001b[39m] \u001b[38;5;241m=\u001b[39m [xmin, xmax, \u001b[38;5;241m0\u001b[39m, mx]\n\u001b[0;32m-> 1610\u001b[0m \u001b[38;5;28;43mself\u001b[39;49m\u001b[38;5;241;43m.\u001b[39;49m\u001b[43mset_axes\u001b[49m\u001b[43m(\u001b[49m\u001b[43m[\u001b[49m\u001b[43mplotparam\u001b[49m\u001b[43m]\u001b[49m\u001b[43m,\u001b[49m\u001b[43m \u001b[49m\u001b[43max\u001b[49m\u001b[38;5;241;43m=\u001b[39;49m\u001b[43max\u001b[49m\u001b[43m,\u001b[49m\u001b[43m \u001b[49m\u001b[38;5;241;43m*\u001b[39;49m\u001b[38;5;241;43m*\u001b[39;49m\u001b[43mkwargs\u001b[49m\u001b[43m)\u001b[49m\n\u001b[1;32m   1612\u001b[0m \u001b[38;5;28;01mif\u001b[39;00m normalized:\n\u001b[1;32m   1613\u001b[0m     lab \u001b[38;5;241m=\u001b[39m \u001b[38;5;28mself\u001b[39m\u001b[38;5;241m.\u001b[39msettings\u001b[38;5;241m.\u001b[39mnorm_prob_label\n",
      "File \u001b[0;32m~/Code/getdist/getdist/plots.py:1475\u001b[0m, in \u001b[0;36mGetDistPlotter.set_axes\u001b[0;34m(self, params, lims, do_xlabel, do_ylabel, no_label_no_numbers, pos, color_label_in_axes, ax, **_other_args)\u001b[0m\n\u001b[1;32m   1473\u001b[0m ax \u001b[38;5;241m=\u001b[39m \u001b[38;5;28mself\u001b[39m\u001b[38;5;241m.\u001b[39mget_axes(ax)\n\u001b[1;32m   1474\u001b[0m \u001b[38;5;28;01mif\u001b[39;00m lims \u001b[38;5;129;01mis\u001b[39;00m \u001b[38;5;129;01mnot\u001b[39;00m \u001b[38;5;28;01mNone\u001b[39;00m:\n\u001b[0;32m-> 1475\u001b[0m     \u001b[43max\u001b[49m\u001b[38;5;241;43m.\u001b[39;49m\u001b[43maxis\u001b[49m\u001b[43m(\u001b[49m\u001b[43mlims\u001b[49m\u001b[43m)\u001b[49m\n\u001b[1;32m   1476\u001b[0m \u001b[38;5;28;01mif\u001b[39;00m do_xlabel \u001b[38;5;129;01mor\u001b[39;00m \u001b[38;5;129;01mnot\u001b[39;00m no_label_no_numbers:\n\u001b[1;32m   1477\u001b[0m     \u001b[38;5;28mself\u001b[39m\u001b[38;5;241m.\u001b[39m_set_main_axis_properties(ax\u001b[38;5;241m.\u001b[39mxaxis, \u001b[38;5;28;01mTrue\u001b[39;00m)\n",
      "File \u001b[0;32m/opt/miniconda3/envs/arf2/lib/python3.10/site-packages/matplotlib/axes/_base.py:2096\u001b[0m, in \u001b[0;36m_AxesBase.axis\u001b[0;34m(self, emit, *args, **kwargs)\u001b[0m\n\u001b[1;32m   2090\u001b[0m     xauto \u001b[38;5;241m=\u001b[39m (\u001b[38;5;28;01mNone\u001b[39;00m  \u001b[38;5;66;03m# Keep autoscale state as is.\u001b[39;00m\n\u001b[1;32m   2091\u001b[0m              \u001b[38;5;28;01mif\u001b[39;00m xmin \u001b[38;5;129;01mis\u001b[39;00m \u001b[38;5;28;01mNone\u001b[39;00m \u001b[38;5;129;01mand\u001b[39;00m xmax \u001b[38;5;129;01mis\u001b[39;00m \u001b[38;5;28;01mNone\u001b[39;00m\n\u001b[1;32m   2092\u001b[0m              \u001b[38;5;28;01melse\u001b[39;00m \u001b[38;5;28;01mFalse\u001b[39;00m)  \u001b[38;5;66;03m# Turn off autoscale.\u001b[39;00m\n\u001b[1;32m   2093\u001b[0m     yauto \u001b[38;5;241m=\u001b[39m (\u001b[38;5;28;01mNone\u001b[39;00m\n\u001b[1;32m   2094\u001b[0m              \u001b[38;5;28;01mif\u001b[39;00m ymin \u001b[38;5;129;01mis\u001b[39;00m \u001b[38;5;28;01mNone\u001b[39;00m \u001b[38;5;129;01mand\u001b[39;00m ymax \u001b[38;5;129;01mis\u001b[39;00m \u001b[38;5;28;01mNone\u001b[39;00m\n\u001b[1;32m   2095\u001b[0m              \u001b[38;5;28;01melse\u001b[39;00m \u001b[38;5;28;01mFalse\u001b[39;00m)\n\u001b[0;32m-> 2096\u001b[0m     \u001b[38;5;28;43mself\u001b[39;49m\u001b[38;5;241;43m.\u001b[39;49m\u001b[43mset_xlim\u001b[49m\u001b[43m(\u001b[49m\u001b[43mxmin\u001b[49m\u001b[43m,\u001b[49m\u001b[43m \u001b[49m\u001b[43mxmax\u001b[49m\u001b[43m,\u001b[49m\u001b[43m \u001b[49m\u001b[43memit\u001b[49m\u001b[38;5;241;43m=\u001b[39;49m\u001b[43memit\u001b[49m\u001b[43m,\u001b[49m\u001b[43m \u001b[49m\u001b[43mauto\u001b[49m\u001b[38;5;241;43m=\u001b[39;49m\u001b[43mxauto\u001b[49m\u001b[43m)\u001b[49m\n\u001b[1;32m   2097\u001b[0m     \u001b[38;5;28mself\u001b[39m\u001b[38;5;241m.\u001b[39mset_ylim(ymin, ymax, emit\u001b[38;5;241m=\u001b[39memit, auto\u001b[38;5;241m=\u001b[39myauto)\n\u001b[1;32m   2098\u001b[0m \u001b[38;5;28;01mif\u001b[39;00m kwargs:\n",
      "File \u001b[0;32m/opt/miniconda3/envs/arf2/lib/python3.10/site-packages/matplotlib/axes/_base.py:3697\u001b[0m, in \u001b[0;36m_AxesBase.set_xlim\u001b[0;34m(self, left, right, emit, auto, xmin, xmax)\u001b[0m\n\u001b[1;32m   3694\u001b[0m     right \u001b[38;5;241m=\u001b[39m xmax\n\u001b[1;32m   3696\u001b[0m \u001b[38;5;28mself\u001b[39m\u001b[38;5;241m.\u001b[39m_process_unit_info([(\u001b[38;5;124m\"\u001b[39m\u001b[38;5;124mx\u001b[39m\u001b[38;5;124m\"\u001b[39m, (left, right))], convert\u001b[38;5;241m=\u001b[39m\u001b[38;5;28;01mFalse\u001b[39;00m)\n\u001b[0;32m-> 3697\u001b[0m left \u001b[38;5;241m=\u001b[39m \u001b[38;5;28;43mself\u001b[39;49m\u001b[38;5;241;43m.\u001b[39;49m\u001b[43m_validate_converted_limits\u001b[49m\u001b[43m(\u001b[49m\u001b[43mleft\u001b[49m\u001b[43m,\u001b[49m\u001b[43m \u001b[49m\u001b[38;5;28;43mself\u001b[39;49m\u001b[38;5;241;43m.\u001b[39;49m\u001b[43mconvert_xunits\u001b[49m\u001b[43m)\u001b[49m\n\u001b[1;32m   3698\u001b[0m right \u001b[38;5;241m=\u001b[39m \u001b[38;5;28mself\u001b[39m\u001b[38;5;241m.\u001b[39m_validate_converted_limits(right, \u001b[38;5;28mself\u001b[39m\u001b[38;5;241m.\u001b[39mconvert_xunits)\n\u001b[1;32m   3700\u001b[0m \u001b[38;5;28;01mif\u001b[39;00m left \u001b[38;5;129;01mis\u001b[39;00m \u001b[38;5;28;01mNone\u001b[39;00m \u001b[38;5;129;01mor\u001b[39;00m right \u001b[38;5;129;01mis\u001b[39;00m \u001b[38;5;28;01mNone\u001b[39;00m:\n\u001b[1;32m   3701\u001b[0m     \u001b[38;5;66;03m# Axes init calls set_xlim(0, 1) before get_xlim() can be called,\u001b[39;00m\n\u001b[1;32m   3702\u001b[0m     \u001b[38;5;66;03m# so only grab the limits if we really need them.\u001b[39;00m\n",
      "File \u001b[0;32m/opt/miniconda3/envs/arf2/lib/python3.10/site-packages/matplotlib/axes/_base.py:3614\u001b[0m, in \u001b[0;36m_AxesBase._validate_converted_limits\u001b[0;34m(self, limit, convert)\u001b[0m\n\u001b[1;32m   3611\u001b[0m converted_limit \u001b[38;5;241m=\u001b[39m convert(limit)\n\u001b[1;32m   3612\u001b[0m \u001b[38;5;28;01mif\u001b[39;00m (\u001b[38;5;28misinstance\u001b[39m(converted_limit, Real)\n\u001b[1;32m   3613\u001b[0m         \u001b[38;5;129;01mand\u001b[39;00m \u001b[38;5;129;01mnot\u001b[39;00m np\u001b[38;5;241m.\u001b[39misfinite(converted_limit)):\n\u001b[0;32m-> 3614\u001b[0m     \u001b[38;5;28;01mraise\u001b[39;00m \u001b[38;5;167;01mValueError\u001b[39;00m(\u001b[38;5;124m\"\u001b[39m\u001b[38;5;124mAxis limits cannot be NaN or Inf\u001b[39m\u001b[38;5;124m\"\u001b[39m)\n\u001b[1;32m   3615\u001b[0m \u001b[38;5;28;01mreturn\u001b[39;00m converted_limit\n",
      "\u001b[0;31mValueError\u001b[0m: Axis limits cannot be NaN or Inf"
     ]
    },
    {
     "data": {
      "image/png": "[encoded data removed]",
      "text/plain": [
       "<Figure size 864x864 with 6 Axes>"
      ]
     },
     "metadata": {
      "needs_background": "light"
     },
     "output_type": "display_data"
    }
   ],
   "source": [
    "g = plots.get_subplot_plotter()\n",
    "\n",
    "g.triangle_plot([gauss_adf, gauss_arf, gauss_tot],  filled=True, \n",
    "                markers=fiducials, \n",
    "                marker_args={'lw':2.})"
   ]
  },
  {
   "cell_type": "code",
   "execution_count": null,
   "metadata": {},
   "outputs": [],
   "source": []
  },
  {
   "cell_type": "code",
   "execution_count": null,
   "metadata": {},
   "outputs": [],
   "source": []
  }
 ],
 "metadata": {
  "kernelspec": {
   "display_name": "arf2",
   "language": "python",
   "name": "arf2"
  },
  "language_info": {
   "codemirror_mode": {
    "name": "ipython",
    "version": 3
   },
   "file_extension": ".py",
   "mimetype": "text/x-python",
   "name": "python",
   "nbconvert_exporter": "python",
   "pygments_lexer": "ipython3",
   "version": "3.10.5"
  }
 },
 "nbformat": 4,
 "nbformat_minor": 4
}
